{
 "cells": [
  {
   "cell_type": "code",
   "execution_count": null,
   "id": "61f8bf17-b05e-446f-951d-4ae5f6d2c3d1",
   "metadata": {},
   "outputs": [],
   "source": [
    "# imports\n",
    "\n",
    "import os\n",
    "import requests\n",
    "from dotenv import load_dotenv\n",
    "from bs4 import BeautifulSoup\n",
    "from IPython.display import Markdown, display\n",
    "from openai import OpenAI\n",
    "import fitz  # PyMuPDF"
   ]
  },
  {
   "cell_type": "code",
   "execution_count": null,
   "id": "0e4040c4-2ede-47ac-9a4a-ba682aa4e9cf",
   "metadata": {},
   "outputs": [],
   "source": [
    "# Load environment variables in a file called .env\n",
    "\n",
    "load_dotenv(override=True)\n",
    "api_key = os.getenv('OPENAI_API_KEY')"
   ]
  },
  {
   "cell_type": "code",
   "execution_count": null,
   "id": "536c704b-6258-4c0e-9e78-605c01803538",
   "metadata": {},
   "outputs": [],
   "source": [
    "openai = OpenAI()"
   ]
  },
  {
   "cell_type": "code",
   "execution_count": null,
   "id": "8e9f124f-5dfc-4af2-a211-8e4c9dc0cef0",
   "metadata": {},
   "outputs": [],
   "source": [
    "def read_pdf(file_path):\n",
    "    text = \"\"\n",
    "    doc = fitz.open(file_path)\n",
    "    for page in doc:\n",
    "        text += page.get_text(\"text\") + \"\\n\"  # Extract text with spacing\n",
    "    return text\n",
    "\n",
    "# Get file path from user at runtime\n",
    "file_path = input(\"Enter the path of the resume PDF file: \").strip()\n",
    "\n",
    "try:\n",
    "    resume_text = read_pdf(file_path)\n",
    "    print(\"\\nExtracted Resume Text:\\n\", resume_text)\n",
    "except Exception as e:\n",
    "    print(\"Error reading PDF:\", e)"
   ]
  },
  {
   "cell_type": "code",
   "execution_count": null,
   "id": "266593e5-5500-4cfe-baf4-e970dedcdda1",
   "metadata": {},
   "outputs": [],
   "source": [
    "# Step 1: Create your prompts\n",
    "system_prompt = \"You are an assistant that analyzes the contents of my resume and provide the cover letter in 250 words\"\n",
    "user_prompt = resume_text"
   ]
  },
  {
   "cell_type": "code",
   "execution_count": null,
   "id": "6dc91b36-4a5f-4409-aae1-7a13ac73fd47",
   "metadata": {},
   "outputs": [],
   "source": [
    "messages = [\n",
    "        {\"role\": \"system\", \"content\": system_prompt},\n",
    "        {\"role\": \"user\", \"content\": user_prompt}\n",
    "    ]"
   ]
  },
  {
   "cell_type": "code",
   "execution_count": null,
   "id": "b401d648-b3c4-4647-bd55-1136a1c577ec",
   "metadata": {},
   "outputs": [],
   "source": [
    "# Step 3: Call OpenAI\n",
    "\n",
    "response = openai.chat.completions.create(model=\"gpt-4o-mini\", messages=messages)"
   ]
  },
  {
   "cell_type": "code",
   "execution_count": null,
   "id": "1baaf0ee-1622-4861-8074-b672f5b88917",
   "metadata": {},
   "outputs": [],
   "source": [
    "# Step 4: print the result\n",
    "summary= response.choices[0].message.content\n",
    "display(Markdown(summary))"
   ]
  },
  {
   "cell_type": "code",
   "execution_count": null,
   "id": "dadc4d17-90fe-4a85-a93e-c1408d30fb59",
   "metadata": {},
   "outputs": [],
   "source": []
  }
 ],
 "metadata": {
  "kernelspec": {
   "display_name": "Python 3 (ipykernel)",
   "language": "python",
   "name": "python3"
  },
  "language_info": {
   "codemirror_mode": {
    "name": "ipython",
    "version": 3
   },
   "file_extension": ".py",
   "mimetype": "text/x-python",
   "name": "python",
   "nbconvert_exporter": "python",
   "pygments_lexer": "ipython3",
   "version": "3.11.11"
  }
 },
 "nbformat": 4,
 "nbformat_minor": 5
}
